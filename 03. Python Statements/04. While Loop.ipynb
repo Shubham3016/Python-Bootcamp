{
 "cells": [
  {
   "cell_type": "markdown",
   "metadata": {},
   "source": [
    "# while Loops\n",
    "\n",
    "The <code>while</code> statement in Python is one of most general ways to perform iteration. A <code>while</code> statement will repeatedly execute a single statement or group of statements as long as the condition is true. The reason it is called a 'loop' is because the code statements are looped through over and over again until the condition is no longer met.\n",
    "\n",
    "The general format of a while loop is:\n",
    "\n",
    "    while test:\n",
    "        code statements\n",
    "    else:\n",
    "        final code statements\n"
   ]
  },
  {
   "cell_type": "code",
   "execution_count": 5,
   "metadata": {},
   "outputs": [
    {
     "name": "stdout",
     "output_type": "stream",
     "text": [
      "x is currently: 0\n",
      "x is still less than 10,adding 1 to x\n",
      "x is currently: 1\n",
      "x is still less than 10,adding 1 to x\n",
      "x is currently: 2\n",
      "x is still less than 10,adding 1 to x\n",
      "x is currently: 3\n",
      "x is still less than 10,adding 1 to x\n",
      "x is currently: 4\n",
      "x is still less than 10,adding 1 to x\n",
      "x is currently: 5\n",
      "x is still less than 10,adding 1 to x\n",
      "x is currently: 6\n",
      "x is still less than 10,adding 1 to x\n",
      "x is currently: 7\n",
      "x is still less than 10,adding 1 to x\n",
      "x is currently: 8\n",
      "x is still less than 10,adding 1 to x\n",
      "x is currently: 9\n",
      "x is still less than 10,adding 1 to x\n"
     ]
    }
   ],
   "source": [
    "x=0\n",
    "while x < 10:\n",
    "    print('x is currently:',x)\n",
    "    print('x is still less than 10,adding 1 to x')\n",
    "    x+=1"
   ]
  },
  {
   "cell_type": "markdown",
   "metadata": {},
   "source": [
    "Here we can see how many times the print statements occurred and how the <code>while</code> loop kept going until the True condition was met, which occurred once x==10. It's important to note that once this occurred the code stopped. Let's see how we could add an <code>else</code> statement:"
   ]
  },
  {
   "cell_type": "code",
   "execution_count": 13,
   "metadata": {},
   "outputs": [
    {
     "name": "stdout",
     "output_type": "stream",
     "text": [
      "a is currently: 0\n",
      "a is less than 10,adding 1 to a\n",
      "a is currently: 1\n",
      "a is less than 10,adding 1 to a\n",
      "a is currently: 2\n",
      "a is less than 10,adding 1 to a\n",
      "a is currently: 3\n",
      "a is less than 10,adding 1 to a\n",
      "a is currently: 4\n",
      "a is less than 10,adding 1 to a\n",
      "a is currently: 5\n",
      "a is less than 10,adding 1 to a\n",
      "a is currently: 6\n",
      "a is less than 10,adding 1 to a\n",
      "a is currently: 7\n",
      "a is less than 10,adding 1 to a\n",
      "a is currently: 8\n",
      "a is less than 10,adding 1 to a\n",
      "a is currently: 9\n",
      "a is less than 10,adding 1 to a\n",
      "All Done!\n"
     ]
    }
   ],
   "source": [
    "a=0\n",
    "while a < 10:\n",
    "    print('a is currently:',a)\n",
    "    print('a is less than 10,adding 1 to a')\n",
    "    a+=1\n",
    "else:\n",
    "    print(\"All Done!\")"
   ]
  },
  {
   "cell_type": "markdown",
   "metadata": {},
   "source": [
    "# break\n",
    "\n",
    "With the **break statement** we can stop the loop even if the while condition is true::\n",
    "\n",
    "`break`: Breaks out of the current closest enclosing loop.\n",
    "    \n",
    "Thinking about <code>break</code> statements, the general format of the <code>while</code> loop looks like this:\n",
    "\n",
    "    while test: \n",
    "        code statement\n",
    "        if test: \n",
    "            break\n",
    "        if test: \n",
    "            continue \n",
    "    else:\n"
   ]
  },
  {
   "cell_type": "code",
   "execution_count": 14,
   "metadata": {},
   "outputs": [
    {
     "name": "stdout",
     "output_type": "stream",
     "text": [
      "1\n",
      "2\n",
      "3\n"
     ]
    }
   ],
   "source": [
    "i=1\n",
    "\n",
    "while i < 6:\n",
    "    print(i)\n",
    "    if i==3:\n",
    "        break\n",
    "    i+=1"
   ]
  },
  {
   "cell_type": "markdown",
   "metadata": {},
   "source": [
    "Here we can see if `i==3` it will Exit the loop when `i` is `3`:"
   ]
  },
  {
   "cell_type": "code",
   "execution_count": 20,
   "metadata": {},
   "outputs": [
    {
     "name": "stdout",
     "output_type": "stream",
     "text": [
      "w\n",
      "e\n",
      "l\n",
      "End\n"
     ]
    }
   ],
   "source": [
    "for val in \"welcome\":\n",
    "    if val==\"c\":\n",
    "        break\n",
    "    print(val)\n",
    "print(\"End\")\n",
    "    "
   ]
  },
  {
   "cell_type": "markdown",
   "metadata": {},
   "source": [
    "Here we can see we assign a string `Welcome` so it will Exit the loop when `val==c`.:"
   ]
  },
  {
   "cell_type": "markdown",
   "metadata": {},
   "source": [
    "## The continue Statement\n",
    "\n",
    "With the continue statement we can stop the current iteration, and continue with the next:"
   ]
  },
  {
   "cell_type": "code",
   "execution_count": 26,
   "metadata": {},
   "outputs": [
    {
     "name": "stdout",
     "output_type": "stream",
     "text": [
      "1\n",
      "2\n",
      "4\n",
      "5\n",
      "6\n"
     ]
    }
   ],
   "source": [
    "i=0\n",
    "\n",
    "while i < 6:\n",
    "    i+=1\n",
    "    if i==3:\n",
    "        continue\n",
    "    print(i)"
   ]
  },
  {
   "cell_type": "markdown",
   "metadata": {},
   "source": [
    "A word of caution however! It is possible to create an infinitely running loop with while statements. For example:\n"
   ]
  },
  {
   "cell_type": "code",
   "execution_count": null,
   "metadata": {},
   "outputs": [],
   "source": [
    "# DO NOT RUN THIS CODE!!!! \n",
    "while True:\n",
    "    print(\"I'm stuck in an infinite loop!\")"
   ]
  }
 ],
 "metadata": {
  "kernelspec": {
   "display_name": "Python 3",
   "language": "python",
   "name": "python3"
  },
  "language_info": {
   "codemirror_mode": {
    "name": "ipython",
    "version": 3
   },
   "file_extension": ".py",
   "mimetype": "text/x-python",
   "name": "python",
   "nbconvert_exporter": "python",
   "pygments_lexer": "ipython3",
   "version": "3.8.3"
  }
 },
 "nbformat": 4,
 "nbformat_minor": 4
}
